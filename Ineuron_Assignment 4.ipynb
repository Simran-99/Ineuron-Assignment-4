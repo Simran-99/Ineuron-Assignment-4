{
 "cells": [
  {
   "cell_type": "code",
   "execution_count": 1,
   "metadata": {},
   "outputs": [],
   "source": [
    "#python assignment 4"
   ]
  },
  {
   "cell_type": "code",
   "execution_count": 2,
   "metadata": {},
   "outputs": [],
   "source": [
    "#1.1 Write a Python Program(with class concepts) to find the area of the triangle using the below  formula. \n",
    "#area = (s*(s-a)*(s-b)*(s-c)) ** 0.5"
   ]
  },
  {
   "cell_type": "code",
   "execution_count": 3,
   "metadata": {},
   "outputs": [],
   "source": [
    "class find_lengths:\n",
    "    def __init__(self,a,b,c):\n",
    "        self.a=a\n",
    "        self.b=b\n",
    "        self.c=c\n",
    "class fin_area(find_lengths):\n",
    "    def __init__(self,*args,**kwargs):\n",
    "        super(fin_area,self).__init__(*args,**kwargs)\n",
    "    def area_tri(self):\n",
    "        s=(self.a+self.b+self.c)/2\n",
    "        ar=(s*(s-self.a)*(s-self.b)*(s-self.c)) ** 0.5\n",
    "        return ar\n"
   ]
  },
  {
   "cell_type": "code",
   "execution_count": 6,
   "metadata": {},
   "outputs": [
    {
     "name": "stdout",
     "output_type": "stream",
     "text": [
      "<__main__.fin_area object at 0x0000023CF40AE970>\n"
     ]
    }
   ],
   "source": [
    "first_tri=fin_area(5,8,9)\n",
    "print(first_tri)"
   ]
  },
  {
   "cell_type": "code",
   "execution_count": 8,
   "metadata": {},
   "outputs": [
    {
     "data": {
      "text/plain": [
       "19.8997487421324"
      ]
     },
     "execution_count": 8,
     "metadata": {},
     "output_type": "execute_result"
    }
   ],
   "source": [
    "first_tri.area_tri()"
   ]
  },
  {
   "cell_type": "code",
   "execution_count": 9,
   "metadata": {},
   "outputs": [],
   "source": [
    "#1.2 Write a function filter_long_words() that takes a list of words and an integer n and returns  the list of words that are longer than n. \n"
   ]
  },
  {
   "cell_type": "code",
   "execution_count": 21,
   "metadata": {},
   "outputs": [
    {
     "name": "stdout",
     "output_type": "stream",
     "text": [
      "Enter the length of the list3\n",
      "Enter the wordSimran\n",
      "Enter the wordTaranpreet\n",
      "Enter the wordapple\n",
      "['Simran', 'Taranpreet', 'apple']\n",
      "Enter the lengh of each string in the list6\n",
      "['Simran', 'apple']\n"
     ]
    }
   ],
   "source": [
    "def provide_list():\n",
    "    lst=[]\n",
    "    j=1\n",
    "    i=int(input(\"Enter the length of the list\"))\n",
    "    while j<=i:\n",
    "        wrd=input(\"Enter the word\")\n",
    "        lst.append(wrd)\n",
    "        j=j+1\n",
    "    return lst\n",
    "lst_final=provide_list()\n",
    "print(lst_final)\n",
    "\n",
    "def provide_num():\n",
    "    x=int(input(\"Enter the lengh of each string in the list\"))\n",
    "    return x\n",
    "n=provide_num()\n",
    "def filter_long_words(lst_final,n):\n",
    "    lst3=[]\n",
    "    for i in lst_final:\n",
    "        if len(i)<=n:\n",
    "            lst3.append(i)\n",
    "    print(lst3)\n",
    "filter_long_words(lst_final,n)"
   ]
  },
  {
   "cell_type": "code",
   "execution_count": 22,
   "metadata": {},
   "outputs": [],
   "source": [
    "#2.1 Write a Python program using function concept that maps list of words into a list of integers  representing the lengths of the corresponding words. \n",
    "#Hint: If a list [ ab,cde,erty] is passed on to the python function output should come as [2,3,4] Here 2,3 and 4 are the lengths of the words in the list. \n"
   ]
  },
  {
   "cell_type": "code",
   "execution_count": 30,
   "metadata": {},
   "outputs": [
    {
     "name": "stdout",
     "output_type": "stream",
     "text": [
      "Enter the length of the list3\n",
      "Enter the wordapple\n",
      "Enter the wordbanana\n",
      "Enter the wordmango\n",
      "['apple', 'banana', 'mango']\n",
      "[5, 6, 5]\n"
     ]
    }
   ],
   "source": [
    "def provide_list2():\n",
    "    lst=[]\n",
    "    j=1\n",
    "    i=int(input(\"Enter the length of the list\"))\n",
    "    while j<=i:\n",
    "        wrd=input(\"Enter the word\")\n",
    "        lst.append(wrd)\n",
    "        j=j+1\n",
    "    return lst\n",
    "lst_final2=provide_list()\n",
    "print(lst_final2)    \n",
    "def cal_length(x):\n",
    "    return len(x)\n",
    "cal_length(\"Simran\")\n",
    "length_of_string_lst=list(map(cal_length,lst_final2))\n",
    "print(length_of_string_lst)"
   ]
  },
  {
   "cell_type": "code",
   "execution_count": 31,
   "metadata": {},
   "outputs": [],
   "source": [
    "#2.2 Write a Python function which takes a character (i.e. a string of length 1) and returns True if  it is a vowel, False otherwise. \n"
   ]
  },
  {
   "cell_type": "code",
   "execution_count": 37,
   "metadata": {},
   "outputs": [],
   "source": [
    "def find_char():\n",
    "    x=input(\"Enter a character: \")\n",
    "    if x==\"a\" or x==\"e\" or x==\"i\" or x==\"o\" or x==\"u\":\n",
    "        print(True)\n",
    "    else:\n",
    "        return False"
   ]
  },
  {
   "cell_type": "code",
   "execution_count": 38,
   "metadata": {},
   "outputs": [
    {
     "name": "stdout",
     "output_type": "stream",
     "text": [
      "Enter a character: a\n",
      "True\n"
     ]
    }
   ],
   "source": [
    "find_char()"
   ]
  },
  {
   "cell_type": "code",
   "execution_count": null,
   "metadata": {},
   "outputs": [],
   "source": []
  }
 ],
 "metadata": {
  "kernelspec": {
   "display_name": "Python 3",
   "language": "python",
   "name": "python3"
  },
  "language_info": {
   "codemirror_mode": {
    "name": "ipython",
    "version": 3
   },
   "file_extension": ".py",
   "mimetype": "text/x-python",
   "name": "python",
   "nbconvert_exporter": "python",
   "pygments_lexer": "ipython3",
   "version": "3.8.3"
  }
 },
 "nbformat": 4,
 "nbformat_minor": 4
}
